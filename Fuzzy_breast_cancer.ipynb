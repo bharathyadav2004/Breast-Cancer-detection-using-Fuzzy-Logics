{
  "cells": [
    {
      "cell_type": "code",
      "execution_count": null,
      "metadata": {
        "colab": {
          "base_uri": "https://localhost:8080/"
        },
        "id": "rHL__Np2sDL_",
        "outputId": "cbb2dcce-fd50-4ef6-9360-42e912e6f55e"
      },
      "outputs": [
        {
          "name": "stdout",
          "output_type": "stream",
          "text": [
            "Collecting scikit-fuzzy\n",
            "  Downloading scikit-fuzzy-0.4.2.tar.gz (993 kB)\n",
            "\u001b[2K     \u001b[90m━━━━━━━━━━━━━━━━━━━━━━━━━━━━━━━━━━━━━━━━\u001b[0m \u001b[32m994.0/994.0 kB\u001b[0m \u001b[31m6.9 MB/s\u001b[0m eta \u001b[36m0:00:00\u001b[0m\n",
            "\u001b[?25h  Preparing metadata (setup.py) ... \u001b[?25l\u001b[?25hdone\n",
            "Requirement already satisfied: numpy>=1.6.0 in /usr/local/lib/python3.10/dist-packages (from scikit-fuzzy) (1.25.2)\n",
            "Requirement already satisfied: scipy>=0.9.0 in /usr/local/lib/python3.10/dist-packages (from scikit-fuzzy) (1.11.4)\n",
            "Requirement already satisfied: networkx>=1.9.0 in /usr/local/lib/python3.10/dist-packages (from scikit-fuzzy) (3.2.1)\n",
            "Building wheels for collected packages: scikit-fuzzy\n",
            "  Building wheel for scikit-fuzzy (setup.py) ... \u001b[?25l\u001b[?25hdone\n",
            "  Created wheel for scikit-fuzzy: filename=scikit_fuzzy-0.4.2-py3-none-any.whl size=894077 sha256=7264ae88d4445ab9e577d594bfaeff5818f4978aa7ca430e76fd79a6a085dd4f\n",
            "  Stored in directory: /root/.cache/pip/wheels/4f/86/1b/dfd97134a2c8313e519bcebd95d3fedc7be7944db022094bc8\n",
            "Successfully built scikit-fuzzy\n",
            "Installing collected packages: scikit-fuzzy\n",
            "Successfully installed scikit-fuzzy-0.4.2\n"
          ]
        }
      ],
      "source": [
        "!pip install scikit-fuzzy\n"
      ]
    },
    {
      "cell_type": "code",
      "execution_count": null,
      "metadata": {
        "colab": {
          "base_uri": "https://localhost:8080/"
        },
        "id": "BpZswIHMr1Hf",
        "outputId": "69e7eaaa-af47-4a5e-8c96-255504848ce7"
      },
      "outputs": [
        {
          "name": "stdout",
          "output_type": "stream",
          "text": [
            "Ethical Decision for New Scenario: 0\n"
          ]
        }
      ],
      "source": [
        "# Import necessary libraries\n",
        "import numpy as np\n",
        "import skfuzzy as fuzz\n",
        "from sklearn.neural_network import MLPClassifier\n",
        "from sklearn.model_selection import train_test_split\n",
        "from sklearn.metrics import accuracy_score\n",
        "\n",
        "# Generate synthetic dataset for training\n",
        "# In a real scenario, you'd use a dataset representing various ethical scenarios\n",
        "# Features might include factors like pedestrian safety, traffic rules adherence, etc.\n",
        "np.random.seed(42)\n",
        "X = np.random.rand(100, 2)  # Features\n",
        "y = np.random.randint(2, size=100)  # Binary ethical decision (0 or 1)\n",
        "\n",
        "# Split dataset into training and testing sets\n",
        "X_train, X_test, y_train, y_test = train_test_split(X, y, test_size=0.2, random_state=42)\n",
        "\n",
        "# Fuzzy Logic Rule-Based System\n",
        "# Define fuzzy sets for features (e.g., pedestrian safety, traffic rules adherence)\n",
        "pedestrian_safety = fuzz.trapmf(X_train[:, 0], [0, 0, 0.3, 0.7])\n",
        "traffic_rules_adherence = fuzz.trimf(X_train[:, 1], [0.3, 0.5, 1])\n",
        "\n",
        "# Define fuzzy rules\n",
        "rule1 = np.fmin(pedestrian_safety, traffic_rules_adherence)\n",
        "rule2 = np.fmin(pedestrian_safety, np.logical_not(traffic_rules_adherence))\n",
        "\n",
        "# Combine fuzzy rules using max operator\n",
        "aggregated = np.fmax(rule1, rule2)\n",
        "\n",
        "# Neural Network Learning\n",
        "# Train a simple neural network on the fuzzy logic output\n",
        "classifier = MLPClassifier(hidden_layer_sizes=(5,), max_iter=1000, random_state=42)\n",
        "classifier.fit(aggregated.reshape(-1, 1), y_train)\n",
        "\n",
        "# Fuzzy Logic Inference for New Scenario\n",
        "# Assuming new_scenario contains fuzzy inputs for pedestrian_safety and traffic_rules_adherence\n",
        "new_scenario = np.array([[0.8, 0.4]])\n",
        "\n",
        "pedestrian_safety_new = fuzz.trapmf(new_scenario[0], [0, 0, 0.3, 0.7])\n",
        "traffic_rules_adherence_new = fuzz.trimf(new_scenario[0], [0.3, 0.5, 1])\n",
        "\n",
        "\n",
        "# Apply fuzzy rules\n",
        "rule1_new = np.fmin(pedestrian_safety_new, traffic_rules_adherence_new)\n",
        "rule2_new = np.fmin(pedestrian_safety_new, np.logical_not(traffic_rules_adherence_new))\n",
        "aggregated_new = np.fmax(rule1_new, rule2_new)\n",
        "\n",
        "# Neural network prediction based on fuzzy logic output\n",
        "prediction = classifier.predict(aggregated_new.reshape(-1, 1))\n",
        "\n",
        "\n",
        "print(\"Ethical Decision for New Scenario:\", prediction[0])\n"
      ]
    },
    {
      "cell_type": "code",
      "execution_count": null,
      "metadata": {
        "colab": {
          "base_uri": "https://localhost:8080/"
        },
        "id": "dta1i-bbssFl",
        "outputId": "04372072-c987-4cff-a12d-59db680156fb"
      },
      "outputs": [
        {
          "name": "stdout",
          "output_type": "stream",
          "text": [
            "Predicted Class for New Scenario: Iris-setosa\n"
          ]
        }
      ],
      "source": [
        "import pandas as pd\n",
        "from sklearn.model_selection import train_test_split\n",
        "from sklearn.neural_network import MLPClassifier\n",
        "import skfuzzy as fuzz\n",
        "import numpy as np\n",
        "\n",
        "# Load Iris dataset from CSV file\n",
        "iris_df = pd.read_csv(\"/content/Iris.csv\")  # Replace \"path_to_your_directory\" with the actual path\n",
        "\n",
        "# Assuming the dataset has columns \"sepal_length\", \"sepal_width\", \"petal_length\", \"petal_width\", and \"species\"\n",
        "X = iris_df.drop(\"Species\", axis=1).values\n",
        "y = iris_df[\"Species\"].values\n",
        "\n",
        "# Split dataset into training and testing sets\n",
        "X_train, X_test, y_train, y_test = train_test_split(X, y, test_size=0.2, random_state=42)\n",
        "\n",
        "# Fuzzy Logic Rule-Based System\n",
        "# Define fuzzy sets for features\n",
        "feature1_membership = fuzz.trapmf(X_train[:, 0], [4, 4, 6, 7])\n",
        "feature2_membership = fuzz.trimf(X_train[:, 1], [2, 3, 4])\n",
        "\n",
        "# Define fuzzy rules\n",
        "rule1 = np.fmin(feature1_membership, feature2_membership)\n",
        "\n",
        "# Combine fuzzy rules using max operator\n",
        "aggregated = rule1  # For simplicity, we only have one rule in this example\n",
        "\n",
        "# Neural Network Learning\n",
        "# Train a simple neural network on the fuzzy logic output\n",
        "classifier = MLPClassifier(hidden_layer_sizes=(5,), max_iter=1000, random_state=42)\n",
        "classifier.fit(aggregated.reshape(-1, 1), y_train)\n",
        "\n",
        "# Fuzzy Logic Inference for New Scenario\n",
        "# Assuming new_scenario contains fuzzy inputs for features\n",
        "new_scenario = np.array([[6.5, 3.0, 4.0, 1.3]])  # Example new scenario from the Iris dataset\n",
        "feature1_membership_new = fuzz.trapmf(new_scenario[:, 0], [4, 4, 6, 7])\n",
        "feature2_membership_new = fuzz.trimf(new_scenario[:, 1], [2, 3, 4])\n",
        "\n",
        "# Apply fuzzy rules\n",
        "rule1_new = np.fmin(feature1_membership_new, feature2_membership_new)\n",
        "aggregated_new = rule1_new\n",
        "\n",
        "# Neural network prediction based on fuzzy logic output\n",
        "prediction = classifier.predict(aggregated_new.reshape(1, -1))\n",
        "\n",
        "print(\"Predicted Class for New Scenario:\", prediction[0])\n"
      ]
    },
    {
      "cell_type": "code",
      "execution_count": null,
      "metadata": {
        "colab": {
          "base_uri": "https://localhost:8080/"
        },
        "id": "bFNoslp8vpqH",
        "outputId": "5d82aa4c-78a0-4c20-80f1-9b67d64ec939"
      },
      "outputs": [
        {
          "name": "stdout",
          "output_type": "stream",
          "text": [
            "Predicted Class for New Scenario: Iris-setosa\n"
          ]
        }
      ],
      "source": [
        "import pandas as pd\n",
        "from sklearn.model_selection import train_test_split\n",
        "from sklearn.neural_network import MLPClassifier\n",
        "import skfuzzy as fuzz\n",
        "import numpy as np\n",
        "\n",
        "# Load Iris dataset from CSV file\n",
        "iris_df = pd.read_csv(\"/content/Iris.csv\")  # Replace \"path_to_your_directory\" with the actual path\n",
        "\n",
        "# Assuming the dataset has columns \"sepal_length\", \"sepal_width\", \"petal_length\", \"petal_width\", and \"species\"\n",
        "X = iris_df.drop(\"Species\", axis=1).values\n",
        "y = iris_df[\"Species\"].values\n",
        "\n",
        "# Split dataset into training and testing sets\n",
        "X_train, X_test, y_train, y_test = train_test_split(X, y, test_size=0.2, random_state=42)\n",
        "\n",
        "# Fuzzy Logic Rule-Based System\n",
        "# Define fuzzy sets for features\n",
        "feature1_membership = fuzz.trapmf(X_train[:, 0], [4, 4, 6, 7])\n",
        "feature2_membership = fuzz.trimf(X_train[:, 1], [2, 3, 4])\n",
        "\n",
        "# Define fuzzy rules\n",
        "rule1 = np.fmin(feature1_membership, feature2_membership)\n",
        "\n",
        "# Combine fuzzy rules using max operator\n",
        "aggregated = rule1  # For simplicity, we only have one rule in this example\n",
        "\n",
        "# Neural Network Learning\n",
        "# Train a simple neural network on the fuzzy logic output\n",
        "classifier = MLPClassifier(hidden_layer_sizes=(5,), max_iter=1000, random_state=42)\n",
        "classifier.fit(aggregated.reshape(-1, 1), y_train)\n",
        "\n",
        "# Fuzzy Logic Inference for New Scenario\n",
        "# Assuming new_scenario contains fuzzy inputs for features\n",
        "new_scenario = np.array([[0,0,0,0]])  # Example new scenario from the Iris dataset\n",
        "feature1_membership_new = fuzz.trapmf(new_scenario[:, 0], [4, 4, 6, 7])\n",
        "feature2_membership_new = fuzz.trimf(new_scenario[:, 1], [2, 3, 4])\n",
        "\n",
        "# Apply fuzzy rules\n",
        "rule1_new = np.fmin(feature1_membership_new, feature2_membership_new)\n",
        "aggregated_new = rule1_new\n",
        "\n",
        "# Neural network prediction based on fuzzy logic output\n",
        "prediction = classifier.predict(aggregated_new.reshape(1, -1))\n",
        "\n",
        "print(\"Predicted Class for New Scenario:\", prediction[0])\n"
      ]
    },
    {
      "cell_type": "code",
      "execution_count": null,
      "metadata": {
        "colab": {
          "base_uri": "https://localhost:8080/"
        },
        "id": "2BJWjeVlxCZK",
        "outputId": "bcc23176-e572-42d7-d881-84575c50609e"
      },
      "outputs": [
        {
          "name": "stdout",
          "output_type": "stream",
          "text": [
            "Predicted Class for New Scenario: Iris-setosa\n"
          ]
        }
      ],
      "source": [
        "import pandas as pd\n",
        "from sklearn.model_selection import train_test_split\n",
        "from sklearn.neural_network import MLPClassifier\n",
        "import skfuzzy as fuzz\n",
        "import numpy as np\n",
        "\n",
        "# Load Iris dataset from CSV file\n",
        "iris_df = pd.read_csv(\"/content/Iris.csv\")  # Replace \"path_to_your_directory\" with the actual path\n",
        "\n",
        "# Assuming the dataset has columns \"sepal_length\", \"sepal_width\", \"petal_length\", \"petal_width\", and \"species\"\n",
        "X = iris_df.drop(\"Species\", axis=1).values\n",
        "y = iris_df[\"Species\"].values\n",
        "\n",
        "\n",
        "# Split dataset into training and testing sets\n",
        "X_train, X_test, y_train, y_test = train_test_split(X, y, test_size=0.2, random_state=42)\n",
        "\n",
        "# Fuzzy Logic Rule-Based System\n",
        "# Define fuzzy sets for features\n",
        "feature1_membership = fuzz.trapmf(X_train[:, 0], [4, 4, 6, 7])\n",
        "feature2_membership = fuzz.trimf(X_train[:, 1], [2, 3, 4])\n",
        "\n",
        "# Apply fuzzy rules for training set\n",
        "rule1 = np.fmin(feature1_membership, feature2_membership)\n",
        "aggregated_train = rule1\n",
        "\n",
        "# Neural Network Learning\n",
        "# Train a simple neural network on the fuzzy logic output\n",
        "classifier = MLPClassifier(hidden_layer_sizes=(5,), max_iter=1000, random_state=42)\n",
        "\n",
        "# Reshape aggregated_train and y_train appropriately\n",
        "classifier.fit(aggregated_train.reshape(len(y_train), -1), y_train)\n",
        "\n",
        "# Fuzzy Logic Inference for New Scenario\n",
        "# Assuming new_scenario contains fuzzy inputs for features\n",
        "new_scenario = np.array([[6.3, 3.3, 4.7, 1.6]])  # Example new scenario from the Iris dataset\n",
        "feature1_membership_new = fuzz.trapmf(new_scenario[:, 0], [4, 4, 6, 7])\n",
        "feature2_membership_new = fuzz.trimf(new_scenario[:, 1], [2, 3, 4])\n",
        "\n",
        "# Apply fuzzy rules for new scenario\n",
        "rule1_new = np.fmin(feature1_membership_new, feature2_membership_new)\n",
        "aggregated_new = rule1_new\n",
        "\n",
        "# Neural network prediction based on fuzzy logic output\n",
        "# Reshape aggregated_new appropriately\n",
        "prediction = classifier.predict(aggregated_new.reshape(1, -1))\n",
        "\n",
        "print(\"Predicted Class for New Scenario:\", prediction[0])\n"
      ]
    },
    {
      "cell_type": "markdown",
      "source": [
        "**Project**"
      ],
      "metadata": {
        "id": "dx2f0gY3b47P"
      }
    },
    {
      "cell_type": "code",
      "execution_count": null,
      "metadata": {
        "colab": {
          "background_save": true,
          "base_uri": "https://localhost:8080/"
        },
        "id": "0o8Tv1WdxYez",
        "outputId": "f1d5d5bd-cb1c-40a5-a7a5-33a8fc9e07e6"
      },
      "outputs": [
        {
          "name": "stdout",
          "output_type": "stream",
          "text": [
            "Predicted Class for New Scenario: Benign\n"
          ]
        }
      ],
      "source": [
        "import pandas as pd\n",
        "from sklearn.model_selection import train_test_split\n",
        "from sklearn.neural_network import MLPClassifier\n",
        "import skfuzzy as fuzz\n",
        "import numpy as np\n",
        "from sklearn.datasets import load_breast_cancer\n",
        "\n",
        "# Load Breast Cancer dataset\n",
        "data = load_breast_cancer()\n",
        "X = data.data\n",
        "y = data.target\n",
        "\n",
        "# Split dataset into training and testing sets\n",
        "X_train, X_test, y_train, y_test = train_test_split(X, y, test_size=0.2, random_state=42)\n",
        "\n",
        "# Fuzzy Logic Rule-Based System\n",
        "# Define fuzzy sets for features\n",
        "feature1_membership = fuzz.trapmf(X_train[:, 0], [6, 10, 20, 30])\n",
        "feature2_membership = fuzz.trimf(X_train[:, 1], [0, 10, 20])\n",
        "\n",
        "# Apply fuzzy rules for training set\n",
        "rule1 = np.fmin(feature1_membership, feature2_membership)\n",
        "aggregated_train = rule1\n",
        "\n",
        "# Neural Network Learning\n",
        "# Train a simple neural network on the fuzzy logic output\n",
        "# Neural Network Learning\n",
        "# Train a simple neural network on the fuzzy logic output\n",
        "classifier = MLPClassifier(hidden_layer_sizes=(5,), max_iter=1000, random_state=42)\n",
        "\n",
        "# Reshape aggregated_train appropriately\n",
        "classifier.fit(aggregated_train.reshape(-1, 1), y_train)\n",
        "\n",
        "\n",
        "# Fuzzy Logic Inference for New Scenario\n",
        "# Assuming new_scenario contains fuzzy inputs for features\n",
        "new_scenario = np.array([[15, 5, 3, 2, 0.1, 0.2, 0.3, 0.4, 0.5, 0.6, 0.7, 0.8, 0.9, 1.0, 1.1, 1.2, 1.3, 1.4, 1.5, 1.6]])\n",
        "\n",
        "# Apply fuzzy rules for new scenario\n",
        "rule1_new = np.fmin(fuzz.trapmf(new_scenario[:, 0], [6, 10, 20, 30]), fuzz.trimf(new_scenario[:, 1], [0, 10, 20]))\n",
        "aggregated_new = rule1_new\n",
        "\n",
        "# Neural network prediction based on fuzzy logic output\n",
        "# Reshape aggregated_new appropriately\n",
        "prediction = classifier.predict(aggregated_new.reshape(1, -1))\n",
        "\n",
        "print(\"Predicted Class for New Scenario:\", \"Malignant\" if prediction[0] == 1 else \"Benign\")\n"
      ]
    },
    {
      "cell_type": "code",
      "execution_count": null,
      "metadata": {
        "id": "2YOrnWyP1PR3"
      },
      "outputs": [],
      "source": []
    }
  ],
  "metadata": {
    "colab": {
      "provenance": []
    },
    "kernelspec": {
      "display_name": "Python 3",
      "name": "python3"
    },
    "language_info": {
      "name": "python"
    }
  },
  "nbformat": 4,
  "nbformat_minor": 0
}